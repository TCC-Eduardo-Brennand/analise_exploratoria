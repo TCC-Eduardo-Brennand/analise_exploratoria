{
 "cells": [
  {
   "cell_type": "markdown",
   "metadata": {},
   "source": [
    "## Exemplo Ideia Algoritmo Genético 1\n",
    "- Esse algoritmo genético teria como premissa inicial o tempo total da corrida"
   ]
  },
  {
   "cell_type": "markdown",
   "metadata": {},
   "source": [
    "### Gene\n",
    "- O gene será composto por 3 parâmetros, `PitStop`, `PneuAtual`, `PneuColocado`\n",
    "1. `PitStop` indica se houve ou não pitstop na volta atual, podendo ter valores `(0, 1)`, onde o 0 indica que não teve pitstop e o 1 indica que teve \n",
    "2. `PneuAtual` indica qual o pneu que o piloto está usando na volta atual, podendo ter valores `(0, 1, 2, 3, 4, 5)`, onde:\n",
    "    - `0 == SOFT`\n",
    "    - `1 == MEDIUM`\n",
    "    - `2 == HARD`\n",
    "    - `3 == INTERMEDIATE`\n",
    "    - `4 == WET`\n",
    "3. `PneuColocado` indica qual o pneu que o piloto colocou caso tenha entrado no pitstop, podendo ter valores `(0, 1, 2, 3, 4, 5)`, onde:\n",
    "    - `0 == SOFT`\n",
    "    - `1 == MEDIUM`\n",
    "    - `2 == HARD`\n",
    "    - `3 == INTERMEDIATE`\n",
    "    - `4 == WET`\n",
    "\n",
    "| PitStop     | PneuAtual         | PneuColocado         |\n",
    "| ----------- | ----------------- | -------------------- |\n",
    "|   (0, 1)    | (0, 1, 2, 3, 4, 5)| (0, 1, 2, 3, 4, 5)   |\n"
   ]
  },
  {
   "cell_type": "markdown",
   "metadata": {},
   "source": [
    "### Cromossomo\n",
    "- O tamanho do cromossomo será composto pela seguinte regra: $C = n.g $\n",
    "- Onde $n$ significa o total de voltas na corrida analisada e $g$ indica os parâmetros dos genes\n",
    "- Exemplo: uma corrida que possui 50 voltas, teria um cromossomo de tamanho $C = 50.3 = 150$, onde cada três \"casas\" desse cromossomo representa uma volta na corrida "
   ]
  },
  {
   "cell_type": "markdown",
   "metadata": {},
   "source": [
    "### Função de Avaliação\n",
    "- A função de avaliação seria baseada no tempo total da corrida, onde valores menores serão mais bem avaliados e valores maiores serão menos bem avaliados\n",
    "- Como calcularíamos o tempo total da corrida baseado na construção do nosso cromossomo?\n",
    "    - Para cada trio no cromossomo (volta), nós vamos verificar qual o tipo de pneu que estava sendo utilizado nessa volta e vamos somar a média do tempo de volta com esse tipo de pneu ao tempo total.\n",
    "    - Caso seja uma volta que teve pitstop, nós vamos verificar qual a média de tempo de pitstop e vamos somar ao tempo total.\n",
    "    - Ao final dos $n$ trios de genes, vamos ter o $T$ total, que é a soma da média de todas as voltas de acordo com o tipo de pneu + a média de tempo dos $x$ pitstops que foram feitos.\n",
    "$$\n",
    "T = \\sum_{i=1}^{n} \\overline{t}_{\\text{volta}_i} + \\sum_{j=1}^{m} \\overline{t}_{\\text{pitstop}_j}\n",
    "$$\n"
   ]
  },
  {
   "cell_type": "code",
   "execution_count": 18,
   "metadata": {},
   "outputs": [
    {
     "name": "stdout",
     "output_type": "stream",
     "text": [
      "6.870000000000001\n"
     ]
    }
   ],
   "source": [
    "# Exemplo código:\n",
    "total_voltas = 5\n",
    "tempo_total = 0\n",
    "cromossomo = [[0, 1, 1], [0, 1, 1], [0, 1, 1], [1, 1, 2], [0, 2, 2]]\n",
    "\n",
    "tempo_medio_soft = 1.30\n",
    "tempo_medio_medium = 1.33\n",
    "tempo_medio_hard = 1.35\n",
    "tempo_medio_pitstop = .20\n",
    "\n",
    "mapeamento_pneus = {\n",
    "    0: tempo_medio_soft,\n",
    "    1: tempo_medio_medium,\n",
    "    2: tempo_medio_hard\n",
    "}\n",
    "\n",
    "for i in range(total_voltas):\n",
    "    # Se o primeiro índice do cromossomo for 0, significa que não houve pitstop\n",
    "    if cromossomo[i][0] == 0:\n",
    "        # Aqui, somamos ao tempo total o tempo médio do tipo de pneu utilizado\n",
    "        tempo_total += mapeamento_pneus[cromossomo[i][1]]\n",
    "    # Houve pitstop\n",
    "    else:\n",
    "        # Primeiro adicionamos o tempo total da volta do piloto\n",
    "        tempo_total += mapeamento_pneus[cromossomo[i][1]]\n",
    "        # Depois adicionamos o tempo total do pitstop\n",
    "        tempo_total += tempo_medio_pitstop\n",
    "\n",
    "print(tempo_total)"
   ]
  },
  {
   "cell_type": "markdown",
   "metadata": {},
   "source": [
    "### Alguns pontos que podem ser melhorados:\n",
    "- Nesse caso, não estamos levando em consideração a degradação dos pneus, então o o algoritmo genético vai sempre dar uma nota maior às estratégias que envolvam os pneus macios, mesmo que eles se degradem mais rápido. Então, seria necessário levar em consideração o número de voltas total que está se utilizando determinado pneu e o tempo médio de volta de acordo com a degradação do pneu\n",
    "- É preciso também criar uma regra, pois na Fórmula 1, toda corrida é obrigatória a ter pelo menos um pitstop e dois tipos de compostos diferentes. Caso contrário, o algoritmo genético vai sempre selecionar corridas que só utilizam pneu macio e que não façam pitstop. "
   ]
  },
  {
   "cell_type": "markdown",
   "metadata": {},
   "source": [
    "## Exemplo Ideia Algoritmo Genético 2\n",
    "- Esse algoritmo genético teria como ponto de partida as posições ganhas pelo piloto"
   ]
  },
  {
   "cell_type": "markdown",
   "metadata": {},
   "source": [
    "### Gene\n",
    "- O gene será composto por 3 parâmetros, `PitStop`, `PneuAtual`, `PneuColocado`\n",
    "1. `PitStop` indica se houve ou não pitstop na volta atual, podendo ter valores `(0, 1)`, onde o 0 indica que não teve pitstop e o 1 indica que teve \n",
    "2. `PneuAtual` indica qual o pneu que o piloto está usando na volta atual, podendo ter valores `(0, 1, 2, 3, 4, 5)`, onde:\n",
    "    - `0 == SOFT`\n",
    "    - `1 == MEDIUM`\n",
    "    - `2 == HARD`\n",
    "    - `3 == INTERMEDIATE`\n",
    "    - `4 == WET`\n",
    "3. `PneuColocado` indica qual o pneu que o piloto colocou caso tenha entrado no pitstop, podendo ter valores `(0, 1, 2, 3, 4, 5)`, onde:\n",
    "    - `0 == SOFT`\n",
    "    - `1 == MEDIUM`\n",
    "    - `2 == HARD`\n",
    "    - `3 == INTERMEDIATE`\n",
    "    - `4 == WET`\n",
    "\n",
    "| PitStop     | PneuAtual         | PneuColocado         |\n",
    "| ----------- | ----------------- | -------------------- |\n",
    "|   (0, 1)    | (0, 1, 2, 3, 4, 5)| (0, 1, 2, 3, 4, 5)   |\n"
   ]
  }
 ],
 "metadata": {
  "kernelspec": {
   "display_name": "eduardobrennand-tcc-3JVbaj04-py3.12",
   "language": "python",
   "name": "python3"
  },
  "language_info": {
   "codemirror_mode": {
    "name": "ipython",
    "version": 3
   },
   "file_extension": ".py",
   "mimetype": "text/x-python",
   "name": "python",
   "nbconvert_exporter": "python",
   "pygments_lexer": "ipython3",
   "version": "3.12.3"
  }
 },
 "nbformat": 4,
 "nbformat_minor": 2
}
